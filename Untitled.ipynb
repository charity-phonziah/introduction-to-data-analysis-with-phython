{
 "cells": [
  {
   "cell_type": "code",
   "execution_count": 1,
   "id": "52799664-318e-4f12-94e6-460076c348a3",
   "metadata": {},
   "outputs": [
    {
     "data": {
      "text/plain": [
       "'charityakoth'"
      ]
     },
     "execution_count": 1,
     "metadata": {},
     "output_type": "execute_result"
    }
   ],
   "source": [
    "string operation\n",
    "first=\"charity\"\n",
    "second=\"akoth\"\n",
    "firs\"+ +\"second concatenation(=) "
   ]
  },
  {
   "cell_type": "code",
   "execution_count": 2,
   "id": "0c82dc03-9001-44eb-bb75-9a2ae171b8a6",
   "metadata": {},
   "outputs": [
    {
     "data": {
      "text/plain": [
       "'charitycharity'"
      ]
     },
     "execution_count": 2,
     "metadata": {},
     "output_type": "execute_result"
    }
   ],
   "source": [
    "first*2 repeation(*)"
   ]
  },
  {
   "cell_type": "code",
   "execution_count": 3,
   "id": "a145193d-1bb4-4642-9850-266c1ccb6d3c",
   "metadata": {},
   "outputs": [
    {
     "data": {
      "text/plain": [
       "'akothakoth'"
      ]
     },
     "execution_count": 3,
     "metadata": {},
     "output_type": "execute_result"
    }
   ],
   "source": [
    "second*2"
   ]
  },
  {
   "cell_type": "code",
   "execution_count": 12,
   "id": "ad80f02e-252f-4e13-9058-062f2d612531",
   "metadata": {},
   "outputs": [],
   "source": [
    "second = \"akoth\"   indexing"
   ]
  },
  {
   "cell_type": "code",
   "execution_count": 13,
   "id": "42673fe7-f6b7-47f2-9ad3-4237132459a1",
   "metadata": {},
   "outputs": [
    {
     "data": {
      "text/plain": [
       "'a'"
      ]
     },
     "execution_count": 13,
     "metadata": {},
     "output_type": "execute_result"
    }
   ],
   "source": [
    "second[0]"
   ]
  },
  {
   "cell_type": "code",
   "execution_count": 17,
   "id": "9eb54c6c-838e-4cb3-a482-c4dcd5390833",
   "metadata": {},
   "outputs": [
    {
     "data": {
      "text/plain": [
       "'charity akoth'"
      ]
     },
     "execution_count": 17,
     "metadata": {},
     "output_type": "execute_result"
    }
   ],
   "source": [
    "fullname=first+\" \"+second   indexing\n",
    "fullname"
   ]
  },
  {
   "cell_type": "code",
   "execution_count": 22,
   "id": "b6878b74-021e-4af4-abfa-92cb57572c8c",
   "metadata": {},
   "outputs": [
    {
     "data": {
      "text/plain": [
       "'charity'"
      ]
     },
     "execution_count": 22,
     "metadata": {},
     "output_type": "execute_result"
    }
   ],
   "source": [
    "fullname [0:7]"
   ]
  },
  {
   "cell_type": "code",
   "execution_count": 24,
   "id": "6783f9a7-5f29-4116-a519-46ea3b352df3",
   "metadata": {},
   "outputs": [
    {
     "data": {
      "text/plain": [
       "'akoth'"
      ]
     },
     "execution_count": 24,
     "metadata": {},
     "output_type": "execute_result"
    }
   ],
   "source": [
    "fullname[8:13]"
   ]
  },
  {
   "cell_type": "code",
   "execution_count": 33,
   "id": "127506d3-bc40-403f-8660-4a6635386534",
   "metadata": {},
   "outputs": [
    {
     "name": "stdin",
     "output_type": "stream",
     "text": [
      "Enter First nam: charity\n"
     ]
    }
   ],
   "source": [
    "name=input(\"Enter First name:\")\n",
    "output"
   ]
  },
  {
   "cell_type": "code",
   "execution_count": 34,
   "id": "59bc2d7b-3b7a-476e-ba2a-12a456c914cd",
   "metadata": {},
   "outputs": [
    {
     "name": "stdout",
     "output_type": "stream",
     "text": [
      "charity\n"
     ]
    }
   ],
   "source": [
    "print(name)"
   ]
  },
  {
   "cell_type": "code",
   "execution_count": 36,
   "id": "5b1326d5-6970-453b-80d4-5d8a265f3127",
   "metadata": {},
   "outputs": [
    {
     "name": "stdout",
     "output_type": "stream",
     "text": [
      "0\n",
      "1\n",
      "2\n",
      "3\n",
      "4\n",
      "5\n",
      "6\n",
      "7\n",
      "8\n",
      "9\n",
      "10\n"
     ]
    }
   ],
   "source": [
    "for i in range (11):\n",
    "    print(i)\n",
    "\n",
    "\n"
   ]
  },
  {
   "cell_type": "code",
   "execution_count": 41,
   "id": "ec8bb1a6-f6e2-43b3-9f89-1a3519c528a3",
   "metadata": {},
   "outputs": [
    {
     "name": "stdout",
     "output_type": "stream",
     "text": [
      "c\n",
      "h\n",
      "a\n",
      "r\n",
      "i\n",
      "t\n",
      "y\n",
      " \n",
      "a\n",
      "k\n",
      "o\n",
      "t\n",
      "h\n"
     ]
    }
   ],
   "source": [
    "for chr in fullname:\n",
    "     print(chr)"
   ]
  },
  {
   "cell_type": "code",
   "execution_count": 42,
   "id": "fb96c42a-7011-4862-b037-b900d025eefc",
   "metadata": {},
   "outputs": [
    {
     "name": "stdout",
     "output_type": "stream",
     "text": [
      "1\n",
      "3\n"
     ]
    }
   ],
   "source": [
    "for i in range(1,5,2):\n",
    "    print(i)"
   ]
  },
  {
   "cell_type": "code",
   "execution_count": 47,
   "id": "956440d9-0f69-41e6-9637-709e115ec044",
   "metadata": {},
   "outputs": [
    {
     "name": "stdout",
     "output_type": "stream",
     "text": [
      "c\n",
      "h\n",
      "a\n",
      "r\n",
      "i\n",
      "t\n",
      "y\n",
      " \n",
      "a\n",
      "k\n",
      "o\n",
      "t\n",
      "h\n"
     ]
    }
   ],
   "source": [
    "for chr in fullname:\n",
    "     print(chr)"
   ]
  },
  {
   "cell_type": "code",
   "execution_count": 9,
   "id": "fe5e34a5-ad1c-40e8-a785-d1e6a2289e7a",
   "metadata": {},
   "outputs": [
    {
     "name": "stdout",
     "output_type": "stream",
     "text": [
      "D\n"
     ]
    }
   ],
   "source": [
    "score=67\n",
    "\n",
    "if score>=90:\n",
    "    print(\"A\")\n",
    "elif score>=80:\n",
    "    print(\"B\")\n",
    "    \n",
    "elif score>=70:\n",
    "     print(\"C\")\n",
    "elif score>=60:\n",
    "     print(\"D\")\n",
    "else:\n",
    "    print(\"E\")\n"
   ]
  },
  {
   "cell_type": "code",
   "execution_count": 7,
   "id": "d83d2c72-bdeb-41a2-849d-294d10a75946",
   "metadata": {},
   "outputs": [
    {
     "name": "stdin",
     "output_type": "stream",
     "text": [
      "Name charity\n",
      "Name mercy\n",
      "Name lida\n"
     ]
    }
   ],
   "source": [
    "check=True\n",
    "while check:\n",
    "    name=input(\"Name\")\n",
    "    if\"lida\" in name:\n",
    "        check=False"
   ]
  },
  {
   "cell_type": "code",
   "execution_count": null,
   "id": "71a744f8-2c5e-43d4-9742-186b4f063aae",
   "metadata": {},
   "outputs": [],
   "source": []
  }
 ],
 "metadata": {
  "kernelspec": {
   "display_name": "Python 3 (ipykernel)",
   "language": "python",
   "name": "python3"
  },
  "language_info": {
   "codemirror_mode": {
    "name": "ipython",
    "version": 3
   },
   "file_extension": ".py",
   "mimetype": "text/x-python",
   "name": "python",
   "nbconvert_exporter": "python",
   "pygments_lexer": "ipython3",
   "version": "3.12.4"
  }
 },
 "nbformat": 4,
 "nbformat_minor": 5
}

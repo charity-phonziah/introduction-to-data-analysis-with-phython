{
 "cells": [
  {
   "cell_type": "code",
   "execution_count": 2,
   "id": "dcaea6ab-0efe-442f-9953-ee3277706bde",
   "metadata": {},
   "outputs": [
    {
     "name": "stdout",
     "output_type": "stream",
     "text": [
      "Hello World\n"
     ]
    }
   ],
   "source": [
    " print(\"Hello World\")#indented block of code\n",
    "\"\"\"\n",
    "this is a multi-line comment\n",
    "\"\"\"\n",
    "if true:\n",
    "    print\"(Hello World\")\n"
   ]
  },
  {
   "cell_type": "code",
   "execution_count": 4,
   "id": "30e77e86-1a03-4d5b-8db3-0bb3e3a85eb5",
   "metadata": {},
   "outputs": [],
   "source": [
    "x=5"
   ]
  },
  {
   "cell_type": "code",
   "execution_count": 6,
   "id": "ca9d868f-998b-4420-bc4d-2db07f91e36d",
   "metadata": {},
   "outputs": [
    {
     "ename": "NameError",
     "evalue": "name 's' is not defined",
     "output_type": "error",
     "traceback": [
      "\u001b[1;31m---------------------------------------------------------------------------\u001b[0m",
      "\u001b[1;31mNameError\u001b[0m                                 Traceback (most recent call last)",
      "Cell \u001b[1;32mIn[6], line 1\u001b[0m\n\u001b[1;32m----> 1\u001b[0m s\n",
      "\u001b[1;31mNameError\u001b[0m: name 's' is not defined"
     ]
    }
   ],
   "source": [
    "s"
   ]
  },
  {
   "cell_type": "code",
   "execution_count": 7,
   "id": "b9abd39a-b4e6-4326-bfa3-8407fe27e46e",
   "metadata": {},
   "outputs": [],
   "source": [
    "x=\"Hello\"\n"
   ]
  },
  {
   "cell_type": "code",
   "execution_count": 8,
   "id": "77ac5e9d-bf72-438d-a1d5-50c222d66cd7",
   "metadata": {},
   "outputs": [
    {
     "data": {
      "text/plain": [
       "'Hello'"
      ]
     },
     "execution_count": 8,
     "metadata": {},
     "output_type": "execute_result"
    }
   ],
   "source": [
    "x"
   ]
  },
  {
   "cell_type": "code",
   "execution_count": 9,
   "id": "d95a3efc-61ea-48b9-8d86-6e7c5c4dad39",
   "metadata": {},
   "outputs": [
    {
     "ename": "SyntaxError",
     "evalue": "unterminated string literal (detected at line 1) (3758353591.py, line 1)",
     "output_type": "error",
     "traceback": [
      "\u001b[1;36m  Cell \u001b[1;32mIn[9], line 1\u001b[1;36m\u001b[0m\n\u001b[1;33m    name='Mary\"\u001b[0m\n\u001b[1;37m         ^\u001b[0m\n\u001b[1;31mSyntaxError\u001b[0m\u001b[1;31m:\u001b[0m unterminated string literal (detected at line 1)\n"
     ]
    }
   ],
   "source": [
    "name='Mary\"#string\n",
    "Name\n",
    "y=6"
   ]
  },
  {
   "cell_type": "code",
   "execution_count": 11,
   "id": "16b3e4ea-1d95-450b-b9e9-574d42746d51",
   "metadata": {},
   "outputs": [],
   "source": [
    "is_active=True#boolean"
   ]
  },
  {
   "cell_type": "code",
   "execution_count": 13,
   "id": "2245937f-aa71-4545-b094-107f937dadea",
   "metadata": {},
   "outputs": [],
   "source": [
    "y=20.5#float"
   ]
  },
  {
   "cell_type": "code",
   "execution_count": 14,
   "id": "c8839483-f75c-40cd-88ba-19349601e1f5",
   "metadata": {},
   "outputs": [],
   "source": [
    "x=1\n",
    "y=1\n",
    "z=1\n",
    "x=y=z=1#En mass assignment"
   ]
  },
  {
   "cell_type": "code",
   "execution_count": 17,
   "id": "cb59399a-5973-4254-9949-e424f3d66443",
   "metadata": {},
   "outputs": [
    {
     "data": {
      "text/plain": [
       "'cat'"
      ]
     },
     "execution_count": 17,
     "metadata": {},
     "output_type": "execute_result"
    }
   ],
   "source": [
    "x,y,z=1,2.39,'cat'#En multiple assignmet\n",
    "z"
   ]
  },
  {
   "cell_type": "code",
   "execution_count": 20,
   "id": "e28f8a04-7e65-44cd-96af-0fd43cc7fbe9",
   "metadata": {},
   "outputs": [
    {
     "data": {
      "text/plain": [
       "int"
      ]
     },
     "execution_count": 20,
     "metadata": {},
     "output_type": "execute_result"
    }
   ],
   "source": [
    "y=3\n",
    "type(y)"
   ]
  },
  {
   "cell_type": "code",
   "execution_count": 21,
   "id": "e36359ab-7f21-4fd6-911d-b5c0abc4f824",
   "metadata": {},
   "outputs": [
    {
     "data": {
      "text/plain": [
       "float"
      ]
     },
     "execution_count": 21,
     "metadata": {},
     "output_type": "execute_result"
    }
   ],
   "source": [
    "x=2.5\n",
    "type(x)"
   ]
  },
  {
   "cell_type": "code",
   "execution_count": 22,
   "id": "fd2601bf-a123-4055-9093-7de7836e3f2c",
   "metadata": {},
   "outputs": [
    {
     "data": {
      "text/plain": [
       "str"
      ]
     },
     "execution_count": 22,
     "metadata": {},
     "output_type": "execute_result"
    }
   ],
   "source": [
    "name='Akoth'\n",
    "type(name)"
   ]
  },
  {
   "cell_type": "code",
   "execution_count": 25,
   "id": "e46c42ac-1d68-4a3f-bd98-b6ced6c8143e",
   "metadata": {},
   "outputs": [
    {
     "data": {
      "text/plain": [
       "bool"
      ]
     },
     "execution_count": 25,
     "metadata": {},
     "output_type": "execute_result"
    }
   ],
   "source": [
    "is_active=True\n",
    "type(is_active)"
   ]
  },
  {
   "cell_type": "code",
   "execution_count": 26,
   "id": "5e762bb6-1911-4014-8858-a3b51776ab1f",
   "metadata": {},
   "outputs": [],
   "source": [
    "a=9(variables operation)\n",
    "b=4"
   ]
  },
  {
   "cell_type": "code",
   "execution_count": 27,
   "id": "b0b86052-d7ae-472f-9bf9-85e6ba7fe264",
   "metadata": {},
   "outputs": [
    {
     "data": {
      "text/plain": [
       "13"
      ]
     },
     "execution_count": 27,
     "metadata": {},
     "output_type": "execute_result"
    }
   ],
   "source": [
    "a+b"
   ]
  },
  {
   "cell_type": "code",
   "execution_count": 28,
   "id": "4a81a519-c6d4-4f34-b98e-fc22d15955f0",
   "metadata": {},
   "outputs": [
    {
     "data": {
      "text/plain": [
       "-5"
      ]
     },
     "execution_count": 28,
     "metadata": {},
     "output_type": "execute_result"
    }
   ],
   "source": [
    "b-a"
   ]
  },
  {
   "cell_type": "code",
   "execution_count": 29,
   "id": "c86fa14a-9689-40ac-a9d3-4c10f84855ec",
   "metadata": {},
   "outputs": [
    {
     "data": {
      "text/plain": [
       "36"
      ]
     },
     "execution_count": 29,
     "metadata": {},
     "output_type": "execute_result"
    }
   ],
   "source": [
    "a*b"
   ]
  },
  {
   "cell_type": "code",
   "execution_count": 31,
   "id": "65b62f41-acb0-4e33-9159-96ac0201c071",
   "metadata": {},
   "outputs": [
    {
     "data": {
      "text/plain": [
       "2.25"
      ]
     },
     "execution_count": 31,
     "metadata": {},
     "output_type": "execute_result"
    }
   ],
   "source": [
    "a/b"
   ]
  },
  {
   "cell_type": "code",
   "execution_count": 32,
   "id": "73b82b84-dfc9-477f-9933-cc51acc9996d",
   "metadata": {},
   "outputs": [
    {
     "data": {
      "text/plain": [
       "1"
      ]
     },
     "execution_count": 32,
     "metadata": {},
     "output_type": "execute_result"
    }
   ],
   "source": [
    "a%b"
   ]
  },
  {
   "cell_type": "code",
   "execution_count": 34,
   "id": "b0dc2e5b-f6a8-4ae4-9991-c1d6c4e1739e",
   "metadata": {},
   "outputs": [
    {
     "data": {
      "text/plain": [
       "2"
      ]
     },
     "execution_count": 34,
     "metadata": {},
     "output_type": "execute_result"
    }
   ],
   "source": [
    "a//b"
   ]
  },
  {
   "cell_type": "code",
   "execution_count": 35,
   "id": "f7aa2d58-74e8-4ddf-9624-5422e2e25c9b",
   "metadata": {},
   "outputs": [],
   "source": [
    "x=6\n",
    "y=5\n",
    "x=x*y"
   ]
  },
  {
   "cell_type": "code",
   "execution_count": 38,
   "id": "28a95a41-8863-411a-b49a-eab28bdd30c6",
   "metadata": {},
   "outputs": [
    {
     "data": {
      "text/plain": [
       "150"
      ]
     },
     "execution_count": 38,
     "metadata": {},
     "output_type": "execute_result"
    }
   ],
   "source": [
    "x"
   ]
  },
  {
   "cell_type": "code",
   "execution_count": 37,
   "id": "7ca35d1e-b207-45ff-b048-e2d111b07b0b",
   "metadata": {},
   "outputs": [
    {
     "name": "stdout",
     "output_type": "stream",
     "text": [
      "150\n"
     ]
    }
   ],
   "source": [
    "x*=y\n",
    "print(x)"
   ]
  },
  {
   "cell_type": "code",
   "execution_count": 40,
   "id": "156c252c-8dbd-46eb-9295-944515dc92be",
   "metadata": {},
   "outputs": [
    {
     "data": {
      "text/plain": [
       "7776"
      ]
     },
     "execution_count": 40,
     "metadata": {},
     "output_type": "execute_result"
    }
   ],
   "source": [
    "6**5"
   ]
  },
  {
   "cell_type": "code",
   "execution_count": 41,
   "id": "1d947e35-7ec3-47a1-b156-5ab86369ffe7",
   "metadata": {},
   "outputs": [],
   "source": [
    "first=10\n",
    "second=7(comperion variables)"
   ]
  },
  {
   "cell_type": "code",
   "execution_count": 42,
   "id": "b70ed9e7-ff45-4ccd-9867-d1980c06bd0b",
   "metadata": {},
   "outputs": [
    {
     "data": {
      "text/plain": [
       "False"
      ]
     },
     "execution_count": 42,
     "metadata": {},
     "output_type": "execute_result"
    }
   ],
   "source": [
    "first<second"
   ]
  },
  {
   "cell_type": "code",
   "execution_count": 43,
   "id": "5936f8a8-ebc6-48ef-ba72-6f14db571c0a",
   "metadata": {},
   "outputs": [
    {
     "data": {
      "text/plain": [
       "True"
      ]
     },
     "execution_count": 43,
     "metadata": {},
     "output_type": "execute_result"
    }
   ],
   "source": [
    "first!=second"
   ]
  },
  {
   "cell_type": "code",
   "execution_count": 44,
   "id": "ad31565c-ca9e-4854-b538-e30bf5aabcf8",
   "metadata": {},
   "outputs": [
    {
     "data": {
      "text/plain": [
       "False"
      ]
     },
     "execution_count": 44,
     "metadata": {},
     "output_type": "execute_result"
    }
   ],
   "source": [
    "second>=first("
   ]
  },
  {
   "cell_type": "code",
   "execution_count": 45,
   "id": "77c9ca93-5414-4d5f-baf9-ed20f2c13ca8",
   "metadata": {},
   "outputs": [
    {
     "ename": "SyntaxError",
     "evalue": "invalid syntax. Maybe you meant '==' or ':=' instead of '='? (2244570614.py, line 3)",
     "output_type": "error",
     "traceback": [
      "\u001b[1;36m  Cell \u001b[1;32mIn[45], line 3\u001b[1;36m\u001b[0m\n\u001b[1;33m    (first=second)\u001b[0m\n\u001b[1;37m     ^\u001b[0m\n\u001b[1;31mSyntaxError\u001b[0m\u001b[1;31m:\u001b[0m invalid syntax. Maybe you meant '==' or ':=' instead of '='?\n"
     ]
    }
   ],
   "source": [
    "first=7\n",
    "second=7\n",
    "first=second( equal to)"
   ]
  },
  {
   "cell_type": "code",
   "execution_count": 48,
   "id": "ac9cda1f-1142-41c5-86cf-5d306ac4635c",
   "metadata": {},
   "outputs": [
    {
     "data": {
      "text/plain": [
       "False"
      ]
     },
     "execution_count": 48,
     "metadata": {},
     "output_type": "execute_result"
    }
   ],
   "source": [
    "5<=3 and 9<10 or5<=3 and,or,not eg5>10  out put is true"
   ]
  },
  {
   "cell_type": "code",
   "execution_count": null,
   "id": "739c90f0-26bc-4e58-b128-21d3d9c94ad2",
   "metadata": {},
   "outputs": [],
   "source": [
    "x=9\n",
    "y=x\n",
    "x is y   (is) 9=y\n"
   ]
  },
  {
   "cell_type": "code",
   "execution_count": null,
   "id": "4d78dded-5941-4537-b748-7a1804fce357",
   "metadata": {},
   "outputs": [],
   "source": []
  },
  {
   "cell_type": "code",
   "execution_count": null,
   "id": "6c170c69-c319-48a8-bd72-ce78fccef68d",
   "metadata": {},
   "outputs": [],
   "source": []
  }
 ],
 "metadata": {
  "kernelspec": {
   "display_name": "Python 3 (ipykernel)",
   "language": "python",
   "name": "python3"
  },
  "language_info": {
   "codemirror_mode": {
    "name": "ipython",
    "version": 3
   },
   "file_extension": ".py",
   "mimetype": "text/x-python",
   "name": "python",
   "nbconvert_exporter": "python",
   "pygments_lexer": "ipython3",
   "version": "3.12.4"
  }
 },
 "nbformat": 4,
 "nbformat_minor": 5
}
